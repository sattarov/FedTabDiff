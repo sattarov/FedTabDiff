{
 "cells": [
  {
   "cell_type": "code",
   "execution_count": 1,
   "metadata": {},
   "outputs": [],
   "source": [
    "# main libraries for data processing/plotting\n",
    "import pandas as pd\n",
    "import numpy as np\n",
    "from tqdm import tqdm\n",
    "from sklearn.preprocessing import LabelEncoder, QuantileTransformer\n",
    "import seaborn as sns\n",
    "\n",
    "# import torch functionality\n",
    "import torch\n",
    "from torch.utils.data import DataLoader, TensorDataset\n",
    "\n",
    "# import flower modules\n",
    "import flwr as fl\n",
    "from flwr.server.strategy import FedAvg\n",
    "\n",
    "# import custom modules\n",
    "from fedtabdiff_modules import init_model\n",
    "from FlowerClient import get_client_fn, get_eval_config\n",
    "from FlowerServer import get_evaluate_server_fn\n",
    "from utils import get_parameters\n",
    "\n",
    "%load_ext autoreload\n",
    "%autoreload 2"
   ]
  },
  {
   "cell_type": "markdown",
   "metadata": {},
   "source": [
    "Set parameters and seed"
   ]
  },
  {
   "cell_type": "code",
   "execution_count": 2,
   "metadata": {},
   "outputs": [],
   "source": [
    "# define global experiment parameters\n",
    "exp_params = dict(\n",
    "\n",
    "    seed = 111, # random seed\n",
    "    batch_size = 512, # batch size   \n",
    "    n_cat_emb = 2, # size of the categorical embeddings (2 means each attribute will be 2-dimensional)\n",
    "    learning_rate = 1e-4, # learning rate\n",
    "\n",
    "    mlp_layers = [512, 512], # total neurons at each hidden feed-forward layer\n",
    "    activation = 'lrelu', # activation function\n",
    "\n",
    "    # diffusion parameters\n",
    "    diffusion_steps = 500,  # number of diffusion steps\n",
    "    diffusion_beta_start = 1e-4, # initial value of beta\n",
    "    diffusion_beta_end = 0.02, # final value of beta\n",
    "    scheduler = 'linear', # linear or quad\n",
    "\n",
    "    # federated parameters\n",
    "    server_rounds = 100, # number of server rounds\n",
    "    client_rounds = 5, # number of client rounds\n",
    "    n_clients = 5, # number of clients\n",
    "    fraction_fit = 1.0, # fraction of clients used for training\n",
    "    fraction_evaluate=1.0, # fraction of clients used for evaluation\n",
    "    min_fit_clients=5, # minimum number of clients used for training\n",
    "    min_evaluate_clients=1, # minimum number of clients used for evaluation\n",
    "\n",
    "    # evaluation periods\n",
    "    eval_rate_server = 10, # evaluate server every n rounds\n",
    "    eval_rate_client = 100, # evaluate client every n rounds\n",
    "\n",
    "    device = torch.device(\"cuda\" if torch.cuda.is_available() else \"cpu\")  \n",
    ")\n",
    "    \n",
    "# set seed\n",
    "rng = np.random.default_rng(exp_params['seed']) # set numpy seed\n",
    "torch.manual_seed(exp_params['seed'])  # set pytorch seed CPU\n",
    "torch.cuda.manual_seed(exp_params['seed'])  # set pytorch seed GPU"
   ]
  },
  {
   "cell_type": "markdown",
   "metadata": {},
   "source": [
    "# Load and preprocess dataset\n",
    "The City of Philadelphia Payments is used for showing the technique. The dataset can be accessed under the following link: https://www.phila.gov/2019-03-29-philadelphias-initial-release-of-city-payments-data "
   ]
  },
  {
   "cell_type": "code",
   "execution_count": 3,
   "metadata": {},
   "outputs": [],
   "source": [
    "# read csv file\n",
    "train_raw = pd.read_csv(r'data/city_payments_fy2017.csv.zip')\n",
    "\n",
    "# remove underscore in column names for correct inverse decoding\n",
    "train_raw.columns = [col.replace('_', ' ') for col in train_raw.columns]\n",
    "\n",
    "# identify numeric and categorical attributes\n",
    "cat_attrs = ['fm', 'check date', 'department title', 'character title', 'sub obj title', 'vendor name', 'contract description']\n",
    "num_attrs = ['transaction amount']\n",
    "\n",
    "# extract label\n",
    "label_name = 'doc ref no prefix definition'\n",
    "label = train_raw[label_name]\n",
    "\n",
    "# take subset of top 5 most frequent label values\n",
    "top_n = train_raw[label_name].value_counts().nlargest(5).index\n",
    "train_raw = train_raw[train_raw[label_name].isin(top_n)].reset_index(drop=True)\n",
    "\n",
    "# add col name to every entry to make them distinguishable for embedding\n",
    "for cat_attr in cat_attrs:\n",
    "    train_raw[cat_attr] = cat_attr + '_' + train_raw[cat_attr].astype('str')\n",
    "\n",
    "# extract and transform label\n",
    "label = train_raw[label_name].fillna('NA')\n",
    "class_encoder = LabelEncoder().fit(label)\n",
    "label = class_encoder.transform(label)"
   ]
  },
  {
   "cell_type": "code",
   "execution_count": 4,
   "metadata": {},
   "outputs": [
    {
     "name": "stdout",
     "output_type": "stream",
     "text": [
      "Processed data: Train shape: (215302, 8)\n"
     ]
    },
    {
     "name": "stderr",
     "output_type": "stream",
     "text": [
      "/var/folders/hr/9sd04tdn71vf50y_zyl5j5g40000gn/T/ipykernel_5688/862577455.py:5: SettingWithCopyWarning: \n",
      "A value is trying to be set on a copy of a slice from a DataFrame.\n",
      "Try using .loc[row_indexer,col_indexer] = value instead\n",
      "\n",
      "See the caveats in the documentation: https://pandas.pydata.org/pandas-docs/stable/user_guide/indexing.html#returning-a-view-versus-a-copy\n",
      "  train[cat_attrs] = train[cat_attrs].astype(str)\n"
     ]
    }
   ],
   "source": [
    "# take cat and num subsets\n",
    "train = train_raw[[*cat_attrs, *num_attrs]]\n",
    "\n",
    "# update categorical attributes\n",
    "train[cat_attrs] = train[cat_attrs].astype(str)\n",
    "\n",
    "print('Processed data: Train shape: {}'.format(train.shape))"
   ]
  },
  {
   "cell_type": "code",
   "execution_count": 5,
   "metadata": {},
   "outputs": [
    {
     "name": "stdout",
     "output_type": "stream",
     "text": [
      "Encoded categorical data: Train shape: torch.Size([215302, 7])\n",
      "Encoded numerical data: Train shape: torch.Size([215302, 1])\n"
     ]
    }
   ],
   "source": [
    "### transform numeric attributes\n",
    "num_scaler = QuantileTransformer(output_distribution='normal', random_state=exp_params['seed'])\n",
    "num_scaler.fit(train[num_attrs])\n",
    "train_num_scaled = num_scaler.transform(train[num_attrs])\n",
    "\n",
    "### transform categorical attributes\n",
    "# get unique vocabulary values\n",
    "vocabulary_classes = np.unique(train[cat_attrs])\n",
    "# fit label encoder\n",
    "label_encoder = LabelEncoder().fit(vocabulary_classes)\n",
    "# transform dataset\n",
    "train_cat_scaled = train[cat_attrs].apply(label_encoder.transform)\n",
    "# collect unique categories of each attribute\n",
    "vocab_per_attr = {cat_attr: set(train_cat_scaled[cat_attr]) for cat_attr in cat_attrs}\n",
    "\n",
    "# add processed data parameters to experiment parameters\n",
    "exp_params['n_cat_tokens'] = len(vocabulary_classes)\n",
    "exp_params['n_classes'] = len(np.unique(label))\n",
    "exp_params['cat_dim'] = exp_params['n_cat_emb'] * len(cat_attrs)\n",
    "exp_params['encoded_dim'] = exp_params['cat_dim'] + len(num_attrs)\n",
    "exp_params['vocab_per_attr'] = vocab_per_attr\n",
    "exp_params['num_scaler'] = num_scaler\n",
    "exp_params['num_attrs'] = num_attrs\n",
    "exp_params['cat_attrs'] = cat_attrs\n",
    "exp_params['label_encoder'] = label_encoder\n",
    "\n",
    "# init torch tensors\n",
    "train_num_torch = torch.FloatTensor(train_num_scaled)\n",
    "train_cat_torch = torch.LongTensor(train_cat_scaled.values)\n",
    "label_torch = torch.LongTensor(label)\n",
    "\n",
    "print('Encoded categorical data: Train shape: {}'.format(train_cat_torch.shape))\n",
    "print('Encoded numerical data: Train shape: {}'.format(train_num_torch.shape))"
   ]
  },
  {
   "cell_type": "markdown",
   "metadata": {},
   "source": [
    "### Split preprocessed dataset into train and test data loaders. In addition, every data loader contains multiple non-overlaping data partitions. The data is partitioned according to a selected label. Each partition will be assigned to individual client during training. Such scheme simulates the non-iid data split."
   ]
  },
  {
   "cell_type": "code",
   "execution_count": 6,
   "metadata": {},
   "outputs": [],
   "source": [
    "# collect list of indices based on label (non-iid splits)\n",
    "unique_keys = np.unique(label)\n",
    "data_split_mapping = {k: np.argwhere(label == k).squeeze() for k in unique_keys}\n",
    "\n",
    "# split train, test and label sets\n",
    "train_loaders_client = []\n",
    "test_loaders_client = []\n",
    "test_loader_server = (train, label_torch) # here the complete train set is used to evaluate on the entire population distribution\n",
    "\n",
    "for indices in data_split_mapping.values():\n",
    "\n",
    "    # pack train partitiones into TensorDataset\n",
    "    train_set = TensorDataset(\n",
    "        train_cat_torch[indices],        \n",
    "        train_num_torch[indices],\n",
    "        label_torch[indices]\n",
    "        )\n",
    "\n",
    "    # pack test partitiones \n",
    "    test_set = (\n",
    "       train.iloc[indices], \n",
    "       label_torch[indices]\n",
    "    )\n",
    "\n",
    "    # append train and test loaders\n",
    "    train_loaders_client.append(DataLoader(train_set, batch_size=exp_params['batch_size'], shuffle=True))\n",
    "    test_loaders_client.append(test_set)"
   ]
  },
  {
   "cell_type": "markdown",
   "metadata": {},
   "source": [
    "# Initialize synthesizer (FinDiff) and flower client/server functions"
   ]
  },
  {
   "cell_type": "code",
   "execution_count": 7,
   "metadata": {},
   "outputs": [
    {
     "name": "stdout",
     "output_type": "stream",
     "text": [
      "Initializing FedTabDiff model\n"
     ]
    }
   ],
   "source": [
    "# init synthesizer and diffuser\n",
    "synthesizer, diffuser = init_model(exp_params=exp_params)\n",
    "\n",
    "# Get the initialized model parameters\n",
    "init_params = get_parameters(synthesizer)\n",
    "\n",
    "# define client function. It will be called by the VirtualClientEngine whenever a client is sampled by the strategy to participate.\n",
    "client_fn = get_client_fn(\n",
    "    train_loaders=train_loaders_client,\n",
    "    test_loaders=test_loaders_client,\n",
    "    exp_params=exp_params\n",
    ")\n",
    "\n",
    "# define server function for evaluation of entire population. It will be called at every training round.\n",
    "evaluate_server_fn = get_evaluate_server_fn(\n",
    "    test_loader=test_loader_server,\n",
    "    exp_params=exp_params\n",
    ")\n",
    "\n",
    "# function used to configure training. We use it to append global experiment parameters to the training config. \n",
    "evaluate_client_fn = get_eval_config(exp_params=exp_params)\n",
    "\n",
    "# init strategy parameters\n",
    "strategy_params = dict(\n",
    "    fraction_fit=exp_params['fraction_fit'],\n",
    "    fraction_evaluate=exp_params['fraction_evaluate'],\n",
    "    min_fit_clients=exp_params['min_fit_clients'],\n",
    "    min_evaluate_clients=exp_params['min_evaluate_clients'],\n",
    "    min_available_clients=exp_params['n_clients'],\n",
    "    initial_parameters=fl.common.ndarrays_to_parameters(init_params),\n",
    "    evaluate_fn=evaluate_server_fn,\n",
    "    on_fit_config_fn=evaluate_client_fn,\n",
    "    on_evaluate_config_fn=evaluate_client_fn\n",
    ")\n",
    "strategy = FedAvg(**strategy_params) # FedAvg is the default strategy\n",
    "\n",
    "# Specify client resources if you need GPU (defaults to 1 CPU and 0 GPU)\n",
    "client_resources = None\n",
    "if exp_params['device'].type == 'cuda':\n",
    "    client_resources = {\"num_gpus\": 1, \"num_cpus\": 4}\n"
   ]
  },
  {
   "cell_type": "code",
   "execution_count": null,
   "metadata": {},
   "outputs": [],
   "source": [
    "# Start simulation\n",
    "hist = fl.simulation.start_simulation(\n",
    "    client_fn=client_fn,\n",
    "    num_clients=exp_params['n_clients'],\n",
    "    config=fl.server.ServerConfig(num_rounds=exp_params['server_rounds']),\n",
    "    strategy=strategy,\n",
    "    client_resources=client_resources\n",
    ")"
   ]
  },
  {
   "cell_type": "code",
   "execution_count": 10,
   "metadata": {},
   "outputs": [
    {
     "data": {
      "image/png": "[encoded data removed]",
      "text/plain": [
       "<Figure size 640x480 with 1 Axes>"
      ]
     },
     "metadata": {},
     "output_type": "display_data"
    }
   ],
   "source": [
    "# plot fidelity scores\n",
    "sns.set_theme(style=\"darkgrid\")\n",
    "plot_df = pd.DataFrame(hist.metrics_centralized['fidelity'], \n",
    "                       columns=['epoch', 'fidelity'])\n",
    "sns.lineplot(data=plot_df, x='epoch', y='fidelity');"
   ]
  }
 ],
 "metadata": {
  "kernelspec": {
   "display_name": "Python 3",
   "language": "python",
   "name": "python3"
  },
  "language_info": {
   "codemirror_mode": {
    "name": "ipython",
    "version": 3
   },
   "file_extension": ".py",
   "mimetype": "text/x-python",
   "name": "python",
   "nbconvert_exporter": "python",
   "pygments_lexer": "ipython3",
   "version": "3.9.6"
  },
  "orig_nbformat": 4
 },
 "nbformat": 4,
 "nbformat_minor": 2
}
